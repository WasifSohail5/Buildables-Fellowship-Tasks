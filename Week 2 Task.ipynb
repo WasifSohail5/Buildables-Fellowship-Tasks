{
 "cells": [
  {
   "metadata": {},
   "cell_type": "markdown",
   "source": [
    "# **Buckle Up ! We are starting our week 2 roller coaster**\n",
    "\n",
    "In our first week we covered some theoritical concepts and completed our setup so its time we start building!"
   ],
   "id": "cc8c1c9dd8ab62a7"
  },
  {
   "cell_type": "markdown",
   "id": "ca6b55c5",
   "metadata": {},
   "source": [
    "## 📓**Conversational AI Concepts & Model Pipelines**"
   ]
  },
  {
   "cell_type": "markdown",
   "id": "f1b7ace2",
   "metadata": {},
   "source": [
    "🎯 By the end of this week, you will:\n",
    "\n",
    "- Understand LLMs, STT, TTS models and their roles.\n",
    "\n",
    "- Know how to connect to LLMs with APIs (Groq as example).\n",
    "\n",
    "- Use Python (requests + JSON) for API interaction.\n",
    "\n",
    "- Start building a basic chatbot with memory and preprocessing."
   ]
  },
  {
   "cell_type": "markdown",
   "id": "8e3c5144",
   "metadata": {},
   "source": [
    "---\n",
    "\n",
    "## 🌟 Large Language Models (LLMs) 🌟"
   ]
  },
  {
   "cell_type": "markdown",
   "id": "03968dc4",
   "metadata": {},
   "source": [
    "---\n",
    "\n",
    "### ❗ **Question 1**: What is an LLM?"
   ]
  },
  {
   "cell_type": "markdown",
   "id": "9dd894fc",
   "metadata": {},
   "source": [
    "👉 It’s like a super-smart text predictor that can read, understand, and generate human-like sentences.\n",
    "\n",
    "You give it some words → it guesses the next words in a way that makes sense.\n",
    "\n",
    "For example:\n",
    "\n",
    "1) You ask a question → it gives you an answer.\n",
    "\n",
    "2) You write a sentence → it can complete it.\n",
    "\n",
    "3) You give it a topic → it can write an essay, code, or even a story.\n",
    "\n",
    "So, its a type of AI trained on huge amounts of text data to generate or understand text.\n",
    "\n",
    "---"
   ]
  },
  {
   "cell_type": "markdown",
   "id": "77076ddc",
   "metadata": {},
   "source": [
    "### Types of LLMs\n",
    "\n",
    "1. Encoder-only models (e.g., BERT)\n",
    "\n",
    "    - Best for understanding text (classification, sentiment analysis, embeddings).\n",
    "\n",
    "    - ❌ Not good at generating text.\n",
    "\n",
    "2. Decoder-only models (e.g., GPT, LLaMA, Mistral)\n",
    "\n",
    "    - Best for text generation (chatbots, writing, summarization).\n",
    "\n",
    "    - What we use in chatbots.\n",
    "\n",
    "3. Encoder-decoder models (e.g., T5, BART)\n",
    "\n",
    "    - Good at transforming text (translation, summarization, Q&A)."
   ]
  },
  {
   "cell_type": "markdown",
   "id": "339099fe",
   "metadata": {},
   "source": [
    "### Must-Knows about LLMs\n",
    "\n",
    "- They don’t “think” like humans → They predict text based on training.\n",
    "\n",
    "- Garbage in → garbage out: Poor prompts = poor answers.\n",
    "\n",
    "- Token limits: Models can only “see” a certain number of words at a time.\n",
    "\n",
    "- Biases: Trained on internet text → may reflect biases/errors."
   ]
  },
  {
   "cell_type": "markdown",
   "id": "8b1b2dd4",
   "metadata": {},
   "source": [
    "### 💡 **Quick Questions**: "
   ]
  },
  {
   "cell_type": "markdown",
   "id": "7753565a",
   "metadata": {},
   "source": [
    "1. Why might a chatbot built on BERT (encoder-only) struggle to answer open-ended questions?\n",
    "\n",
    "- BERT as an encoder-only model is designed to understand and process text input rather than generate text. It excels at comprehension tasks like classification and sentiment analysis but lacks the generative capabilities needed for open-ended responses. When faced with questions requiring creative or lengthy responses, BERT doesn't have the architecture to effectively predict sequential token outputs that form coherent, contextually-appropriate text like decoder-only models (GPT, LLaMA) can."
   ]
  },
  {
   "cell_type": "markdown",
   "id": "a5feffca",
   "metadata": {},
   "source": [
    "---\n",
    "\n",
    "## 🌟 Speech-to-Text (STT) 🌟"
   ]
  },
  {
   "cell_type": "markdown",
   "id": "9393abf7",
   "metadata": {},
   "source": [
    "---\n",
    "\n",
    "### ❗ **Question 2**: What is STT?"
   ]
  },
  {
   "cell_type": "markdown",
   "id": "3f54ac00",
   "metadata": {},
   "source": [
    "👉 listens to your voice and turns it into written text.\n",
    "\n",
    "- Converts **audio → text**.\n",
    "- Enables voice input for conversational AI.\n",
    "- Think of it as the **ears** of the chatbot.\n",
    "\n",
    "**Popular STT Models**:\n",
    "\n",
    "1) **Whisper (OpenAI)** – strong at multilingual speech recognition.\n",
    "2) **Google Speech-to-Text API** – widely used, real-time transcription.\n",
    "3) **Vosk** – lightweight, offline speech recognition.\n",
    "\n",
    "**Common Usages**\n",
    "\n",
    "1) Voice assistants (Alexa, Siri, Google Assistant).\n",
    "2) Automated captions in meetings or lectures.\n",
    "3) Voice-enabled customer support.\n",
    "\n",
    "---"
   ]
  },
  {
   "cell_type": "markdown",
   "id": "cc99714c",
   "metadata": {},
   "source": [
    "### Must-Knows about STT\n",
    "\n",
    "- Accuracy depends on **noise, accents, clarity of speech**.\n",
    "\n",
    "- Some models need **internet connection** (API-based), others run **offline**.\n",
    "\n",
    "- Preprocessing audio (noise reduction) improves results.\n"
   ]
  },
  {
   "cell_type": "markdown",
   "id": "ec23bf9a",
   "metadata": {},
   "source": [
    "### 💡 **Quick Questions**: "
   ]
  },
  {
   "cell_type": "markdown",
   "id": "407d8a82",
   "metadata": {},
   "source": [
    "2. Why do you think meeting transcription apps like Zoom or Google Meet struggle when multiple people talk at once?\n",
    "\n",
    "- Meeting transcription apps struggle with overlapping speech because STT models are typically trained on single-speaker audio. When multiple people talk simultaneously, the audio contains overlapping frequencies and patterns that confuse the model. The system cannot easily separate distinct voices, determine who said what (speaker diarization), or process the mixed acoustic signals accurately. Additionally, varying volumes and accents compound the problem, making it difficult for the model to produce accurate transcriptions."
   ]
  },
  {
   "cell_type": "markdown",
   "id": "f2959a81",
   "metadata": {},
   "source": [
    "---\n",
    "\n",
    "## 🌟 Text-to-Speech (TTS) 🌟"
   ]
  },
  {
   "cell_type": "markdown",
   "id": "6650b62d",
   "metadata": {},
   "source": [
    "---\n",
    "\n",
    "### ❗ **Question 3**: What is TTS?"
   ]
  },
  {
   "cell_type": "markdown",
   "metadata": {},
   "source": [
    "👉 takes written text and speaks it out loud in a human-like voice.\n",
    "\n",
    "- Converts **text → audio (speech)**.\n",
    "- Think of it as the **mouth** of the chatbot.\n",
    "- Makes AI “speak” naturally.\n",
    "\n",
    "**Popular TTS Models**:\n",
    "\n",
    "1) **Google TTS** – supports many languages and voices.\n",
    "2) **Amazon Polly** – lifelike voice synthesis with customization.\n",
    "3) **ElevenLabs** – cutting-edge, realistic voice cloning.\n",
    "\n",
    "**Common Usages**\n",
    "\n",
    "1) Screen readers for visually impaired users.\n",
    "2) AI chatbots with voice output.\n",
    "3) Audiobooks or podcast generation.\n",
    "\n",
    "---"
   ],
   "id": "542c0c3572fcba4f"
  },
  {
   "cell_type": "markdown",
   "id": "cfdb2471",
   "metadata": {},
   "source": [
    "### Must-Knows about TTS\n",
    "\n",
    "- Some voices sound robotic; others use **neural TTS** for natural tones.\n",
    "\n",
    "- Latency matters → If too slow, conversation feels unnatural.\n",
    "\n",
    "- Some TTS services allow **custom voices**."
   ]
  },
  {
   "cell_type": "markdown",
   "id": "ee49cb51",
   "metadata": {},
   "source": [
    "### 💡 **Quick Questions**: "
   ]
  },
  {
   "cell_type": "markdown",
   "id": "ee8f3eb2",
   "metadata": {},
   "source": [
    "3. If you were designing a voice-based AI tutor, what qualities would you want in its TTS voice (tone, speed, clarity, etc.)?\n",
    "\n",
    "- For an AI tutor, ideal TTS voice qualities would include:\n",
    "Clear pronunciation and articulation for educational content\n",
    "Natural, warm tone that feels engaging but professional\n",
    "Appropriate pacing (not too fast for complex topics, not too slow to bore students)\n",
    "Expressive intonation to emphasize important points and maintain interest\n",
    "Ability to vary speaking style based on content (explanatory vs encouraging)\n",
    "Consistent volume levels and natural-sounding pauses\n",
    "Accent that's widely understandable for the target audience"
   ]
  },
  {
   "cell_type": "markdown",
   "id": "8042c582",
   "metadata": {},
   "source": [
    "---\n",
    "\n",
    "## 🌟 Using APIs for LLMs with Groq 🌟"
   ]
  },
  {
   "cell_type": "code",
   "id": "7889d8ee",
   "metadata": {
    "ExecuteTime": {
     "end_time": "2025-08-31T05:34:00.487957Z",
     "start_time": "2025-08-31T05:33:55.733647Z"
    }
   },
   "source": [
    "from groq import Groq\n",
    "\n",
    "client = Groq(api_key=\"\")\n",
    "\n",
    "response = client.chat.completions.create(\n",
    "    model=\"llama-3.1-8b-instant\",\n",
    "    messages=[{\"role\": \"user\", \"content\": \"Hello! What is conversational AI?\"}]\n",
    ")\n",
    "\n",
    "print(response.choices[0].message.content)\n"
   ],
   "outputs": [
    {
     "name": "stdout",
     "output_type": "stream",
     "text": [
      "Conversational AI, also known as conversational artificial intelligence or chatbots, is a type of artificial intelligence (AI) that enables computers to understand and respond to human language inputs in a natural and conversational way. It's designed to mimic human-like conversations, using natural language processing (NLP) and machine learning (ML) algorithms.\n",
      "\n",
      "Conversational AI systems can engage in conversation with humans through various interfaces, such as text chat windows, voice assistants, messaging apps, or even customer service chatbots. They can understand and respond to a wide range of user queries, from simple questions to more complex requests.\n",
      "\n",
      "Some common applications of conversational AI include:\n",
      "\n",
      "1. **Customer service and support**: Chatbots can help resolve customer complaints, answer frequently asked questions, and provide basic support.\n",
      "2. **Virtual assistants**: Conversational AI powers virtual assistants like Siri, Alexa, and Google Assistant, which can perform tasks, set reminders, and provide information.\n",
      "3. **Language translation**: Conversational AI systems can translate languages in real-time, breaking language barriers.\n",
      "4. **Mental health support**: Some conversational AI systems offer mental health support, providing emotional support and resources for people seeking help.\n",
      "5. **Marketing and sales**: Conversational AI can help personalize marketing and sales experiences, automating lead qualification and response.\n",
      "\n",
      "Conversational AI has many benefits, including:\n",
      "\n",
      "1. **Improved customer experience**: Chatbots can provide 24/7 support, answering questions and resolving issues promptly.\n",
      "2. **Increased efficiency**: Conversational AI can automate routine tasks, freeing up human agents for more complex requests.\n",
      "3. **Enhanced scalability**: Chatbots can handle high volumes of traffic, making them ideal for companies with a large customer base.\n",
      "4. **Cost savings**: By automating customer support and other tasks, companies can reduce costs associated with human support.\n",
      "\n",
      "However, conversational AI also presents some challenges, such as:\n",
      "\n",
      "1. **Language understanding limitations**: Chatbots can struggle with nuances of language, leading to errors or misunderstandings.\n",
      "2. **Emotional intelligence**: Conversational AI systems lack emotional intelligence, which can make it difficult to provide empathetic or supportive responses.\n",
      "3. **Bias and cultural sensitivity**: Chatbots may be biased or insensitive to cultural differences, requiring careful development and testing.\n",
      "4. **Security and data protection**: Companies must ensure that conversational AI systems are secure and protect user data.\n",
      "\n",
      "Overall, conversational AI has the potential to revolutionize human-computer interaction, providing more efficient, personalized, and scalable experiences.\n"
     ]
    }
   ],
   "execution_count": 1
  },
  {
   "cell_type": "markdown",
   "id": "a56c20eb",
   "metadata": {},
   "source": [
    "---\n",
    "\n",
    "## 🌟 Assignments 🌟"
   ]
  },
  {
   "metadata": {},
   "cell_type": "markdown",
   "source": [
    "### 📝 Assignment 1: LLM Understanding\n",
    "\n",
    "* Write a short note (3–4 sentences) explaining the difference between **encoder-only, decoder-only, and encoder-decoder LLMs**.\n",
    "* Give one example usage of each.\n",
    "\n",
    "Encoder-only models like BERT are designed to understand text by creating rich representations but they can't generate content on their own, which makes them great for text classification or sentiment analysis. Decoder-only models like GPT are built to generate text by predicting what comes next in a sequence and they're what powers most modern chatbots. Encoder-decoder models like T5 combine both approaches by first encoding input text to understand it and then decoding to generate new text, which is really useful when you need to transform content from one form to another.\n",
    "\n",
    "Example usages:\n",
    "- Encoder-only (BERT): Analyzing customer reviews to determine if they're positive or negative\n",
    "- Decoder-only (GPT): Writing a creative story continuation from a prompt\n",
    "- Encoder-decoder (T5): Summarizing a long article into a few bullet points\n",
    "\n",
    "### 📝 Assignment 2: STT/TTS Exploration\n",
    "\n",
    "* Find **one STT model** and **one TTS model** (other than Whisper/Google).\n",
    "* Write down:\n",
    "\n",
    "  * What it does.\n",
    "  * One possible application.\n",
    "\n",
    "STT Model: Mozilla DeepSpeech\n",
    "- What it does: DeepSpeech is an open-source speech-to-text engine that uses a model trained by machine learning techniques based on Baidu's Deep Speech research. It's designed to run on-device rather than sending audio to cloud servers, which is great for privacy.\n",
    "- Possible application: I could use it in a voice-controlled smart home system that works offline, so people's voice commands for turning lights on/off or adjusting the thermostat aren't sent to external servers.\n",
    "\n",
    "TTS Model: Coqui TTS\n",
    "- What it does: Coqui is an open-source deep learning toolkit for text-to-speech with pretrained models. It supports multiple languages and can generate fairly natural-sounding speech without requiring cloud services.\n",
    "- Possible application: I could build an accessibility app that reads website content aloud for visually impaired users while maintaining their privacy since all processing happens locally on their device.\n",
    "\n",
    "### 📝 Assignment 3: Build a Chatbot with Memory\n",
    "\n",
    "* Write a Python program that:\n",
    "\n",
    "  * Takes user input in a loop.\n",
    "  * Sends it to Groq API.\n",
    "  * Stores the last 5 messages in memory.\n",
    "  * Ends when user types `\"quit\"`."
   ],
   "id": "9625ff7d7043433f"
  },
  {
   "metadata": {
    "ExecuteTime": {
     "end_time": "2025-08-31T05:46:31.650751Z",
     "start_time": "2025-08-31T05:46:07.539046Z"
    }
   },
   "cell_type": "code",
   "source": [
    "from groq import Groq\n",
    "import os\n",
    "api_key = \"your-groq-api-key\"\n",
    "client = Groq(api_key=api_key)\n",
    "\n",
    "def chatbot_with_memory():\n",
    "    memory = []\n",
    "    memory_size = 5\n",
    "    print(\"Welcome to my chatbot! Type 'quit' to exit.\")\n",
    "    while True:\n",
    "        user_input = input(\"You: \")\n",
    "        if user_input.lower() == \"quit\":\n",
    "            print(\"Thanks for chatting! Goodbye!\")\n",
    "            break\n",
    "        memory.append({\"role\": \"user\", \"content\": user_input})\n",
    "        messages = [\n",
    "            {\"role\": \"system\", \"content\": \"You are a helpful assistant.\"}\n",
    "        ]\n",
    "        messages.extend(memory[-memory_size:])\n",
    "\n",
    "        try:\n",
    "            response = client.chat.completions.create(\n",
    "                model=\"llama-3.1-8b-instant\",\n",
    "                messages=messages\n",
    "            )\n",
    "            bot_response = response.choices[0].message.content\n",
    "            print(f\"Bot: {bot_response}\")\n",
    "            memory.append({\"role\": \"assistant\", \"content\": bot_response})\n",
    "            if len(memory) > memory_size * 2:\n",
    "                memory = memory[-(memory_size * 2):]\n",
    "\n",
    "        except Exception as e:\n",
    "            print(f\"Oops! Something went wrong: {e}\")\n",
    "\n",
    "if __name__ == \"__main__\":\n",
    "    chatbot_with_memory()"
   ],
   "id": "104c8b94576fe690",
   "outputs": [
    {
     "name": "stdout",
     "output_type": "stream",
     "text": [
      "Welcome to my chatbot! Type 'quit' to exit.\n",
      "Bot: Quantum computing is a revolutionary technology that uses the principles of quantum mechanics to perform computations that are beyond the capabilities of classical computers. It offers a new approach to processing information, one that leverages the unique properties of quantum systems to solve complex problems exponentially faster than classical computers.\n",
      "\n",
      "**Key Principles:**\n",
      "\n",
      "1. **Quantum Bits (Qubits):** Quantum computers use quantum bits, or qubits, which can exist in multiple states simultaneously, unlike classical bits which can only be 0 or 1. This property, known as superposition, allows qubits to process multiple possibilities at the same time.\n",
      "2. **Entanglement:** Quantum computers use entanglement, a phenomenon where two or more qubits become connected in such a way that the state of one qubit affects the state of the others, even when separated by large distances.\n",
      "3. **Quantum Tunneling:** Quantum computers use quantum tunneling, a phenomenon where a qubit can pass through a barrier, even if it doesn't have enough energy to overcome it.\n",
      "\n",
      "**How Quantum Computing Works:**\n",
      "\n",
      "1. **Quantum Algorithms:** Quantum computers use quantum algorithms, which are designed to take advantage of the unique properties of qubits and entanglement.\n",
      "2. **Quantum Gates:** Quantum computers use quantum gates, which are the quantum equivalent of logic gates in classical computers. Quantum gates manipulate the qubits to perform operations such as rotations, entanglement, and tunneling.\n",
      "3. **Quantum Computing Processors:** Quantum computing processors are the hardware that executes the quantum algorithms and manipulates the qubits.\n",
      "\n",
      "**Applications:**\n",
      "\n",
      "Quantum computing has a wide range of applications across various industries, including:\n",
      "\n",
      "1. **Cryptography:** Quantum computers can break certain types of classical encryption, but they can also be used to create unbreakable quantum encryption.\n",
      "2. **Optimization:** Quantum computers can efficiently solve complex optimization problems, such as finding the shortest path in a complex network.\n",
      "3. **Simulation:** Quantum computers can simulate complex systems, such as molecules and materials, which can lead to breakthroughs in fields like chemistry and medicine.\n",
      "4. **Machine Learning:** Quantum computers can speed up certain types of machine learning algorithms, enabling faster and more accurate predictions.\n",
      "\n",
      "**Challenges:**\n",
      "\n",
      "1. **Error Correction:** Quantum computers are prone to errors, which can be difficult to correct.\n",
      "2. **Scalability:** Building a large-scale quantum computer that can perform reliable computations is a significant challenge.\n",
      "3. **Quantum Noise:** Quantum computers are sensitive to noise, which can cause errors and reduce their performance.\n",
      "\n",
      "**Current State:**\n",
      "\n",
      "Quantum computing is still in its early stages, with many challenges to be addressed. However, significant progress has been made in recent years, and several companies and research institutions are actively working on developing practical quantum computers. Some notable examples include:\n",
      "\n",
      "1. **IBM Quantum:** IBM has developed a cloud-based quantum computer that offers access to quantum computing resources.\n",
      "2. **Google Quantum AI Lab:** Google has developed a quantum computer that can simulate complex systems and perform machine learning tasks.\n",
      "3. **Rigetti Computing:** Rigetti Computing has developed a cloud-based quantum computer that offers a quantum-classical hybrid architecture.\n",
      "\n",
      "In summary, quantum computing is a revolutionary technology that has the potential to solve complex problems exponentially faster than classical computers. While it is still in its early stages, significant progress has been made, and it is expected to have a profound impact across various industries in the coming years.\n",
      "Thanks for chatting! Goodbye!\n"
     ]
    }
   ],
   "execution_count": 2
  },
  {
   "metadata": {},
   "cell_type": "markdown",
   "source": [
    "### 📝 Assignment 4: Preprocessing Function\n",
    "\n",
    "* Write a function to clean user input:\n",
    "\n",
    "  * Lowercase text.\n",
    "  * Remove punctuation.\n",
    "  * Strip extra spaces.\n",
    "\n",
    "Test with: `\"  HELLo!!!  How ARE you?? \"`"
   ],
   "id": "724d9078599abf40"
  },
  {
   "metadata": {
    "ExecuteTime": {
     "end_time": "2025-08-31T05:51:15.939037Z",
     "start_time": "2025-08-31T05:51:15.928404Z"
    }
   },
   "cell_type": "code",
   "source": [
    "import string\n",
    "\n",
    "def clean_user_input(text):\n",
    "    text = text.lower()\n",
    "    translator = str.maketrans('', '', string.punctuation)\n",
    "    text = text.translate(translator)\n",
    "    text = \" \".join(text.split())\n",
    "    return text\n",
    "\n",
    "clean_text = clean_user_input(\"  HELLo!!!  How ARE you?? \")\n",
    "print(clean_text)\n"
   ],
   "id": "f5bcf27b6aa03b69",
   "outputs": [
    {
     "name": "stdout",
     "output_type": "stream",
     "text": [
      "hello how are you\n"
     ]
    }
   ],
   "execution_count": 5
  },
  {
   "metadata": {},
   "cell_type": "code",
   "outputs": [],
   "execution_count": null,
   "source": "",
   "id": "332b0e1f0a261a3c"
  }
 ],
 "metadata": {
  "kernelspec": {
   "display_name": "Python 3",
   "language": "python",
   "name": "python3"
  },
  "language_info": {
   "codemirror_mode": {
    "name": "ipython",
    "version": 3
   },
   "file_extension": ".py",
   "mimetype": "text/x-python",
   "name": "python",
   "nbconvert_exporter": "python",
   "pygments_lexer": "ipython3",
   "version": "3.11.0"
  }
 },
 "nbformat": 4,
 "nbformat_minor": 5
}
